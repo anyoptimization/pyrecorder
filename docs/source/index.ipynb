{
 "cells": [
  {
   "cell_type": "markdown",
   "metadata": {},
   "source": [
    "# pyrecorder"
   ]
  },
  {
   "cell_type": "raw",
   "metadata": {
    "raw_mimetype": "text/restructuredtext"
   },
   "source": [
    "\n",
    "|travis| |python| |license|\n",
    "\n",
    "\n",
    ".. |travis| image:: https://travis-ci.com/julesy89/pyrecorder.svg?branch=master\n",
    "   :alt: build status\n",
    "   :target: https://travis-ci.com/julesy/pyrecorder\n",
    "\n",
    ".. |python| image:: https://img.shields.io/badge/python-3.6-blue.svg\n",
    "   :alt: python 3.6\n",
    "\n",
    ".. |license| image:: https://img.shields.io/badge/license-apache-orange.svg\n",
    "   :alt: license apache\n",
    "   :target: https://www.apache.org/licenses/LICENSE-2.0\n",
    "\n",
    "\n",
    "https://github.com/julesy89/pyrecorder\n"
   ]
  },
  {
   "cell_type": "markdown",
   "metadata": {},
   "source": [
    "# Installation"
   ]
  },
  {
   "cell_type": "markdown",
   "metadata": {},
   "source": [
    "The framework is available at the PyPi Repository:"
   ]
  },
  {
   "cell_type": "raw",
   "metadata": {
    "raw_mimetype": "text/restructuredtext"
   },
   "source": [
    ".. code-block:: bash\n",
    "\n",
    "    pip install -U pyrecorder"
   ]
  },
  {
   "cell_type": "markdown",
   "metadata": {},
   "source": [
    "# Usage"
   ]
  },
  {
   "cell_type": "markdown",
   "metadata": {},
   "source": [
    "## GIF"
   ]
  },
  {
   "cell_type": "code",
   "execution_count": 6,
   "metadata": {},
   "outputs": [],
   "source": [
    "import numpy as np\n",
    "import matplotlib.pyplot as plt\n",
    "\n",
    "from pyrecorder.video import Video\n",
    "from pyrecorder.recorders.gif import GIF\n",
    "\n",
    "vid = Video(GIF(\"example.gif\"))\n",
    "\n",
    "for k in range(10):\n",
    "    X = np.random.random((100, 2))\n",
    "    plt.scatter(X[:, 0], X[:, 1])\n",
    "    vid.record()\n",
    "\n",
    "vid.close()"
   ]
  },
  {
   "cell_type": "code",
   "execution_count": 11,
   "metadata": {
    "nbsphinx": "hidden"
   },
   "outputs": [
    {
     "data": {
      "text/html": [
       "<img src=\"example.gif\" alt=\"Smiley face\">\n"
      ],
      "text/plain": [
       "<IPython.core.display.HTML object>"
      ]
     },
     "metadata": {},
     "output_type": "display_data"
    }
   ],
   "source": [
    "%%HTML\n",
    "<img src=\"example.gif\" alt=\"ExampleGIF\">"
   ]
  },
  {
   "cell_type": "markdown",
   "metadata": {},
   "source": [
    "## Video"
   ]
  },
  {
   "cell_type": "code",
   "execution_count": 13,
   "metadata": {},
   "outputs": [],
   "source": [
    "import numpy as np\n",
    "import matplotlib.pyplot as plt\n",
    "\n",
    "from pyrecorder.video import Video\n",
    "from pyrecorder.recorders.file import File\n",
    "\n",
    "vid = Video(File(\"example.mp4\"))\n",
    "\n",
    "for k in range(10):\n",
    "    X = np.random.random((100, 2))\n",
    "    plt.scatter(X[:, 0], X[:, 1])\n",
    "    vid.record()\n",
    "\n",
    "vid.close()"
   ]
  },
  {
   "cell_type": "markdown",
   "metadata": {},
   "source": [
    "# Contact"
   ]
  },
  {
   "cell_type": "raw",
   "metadata": {
    "raw_mimetype": "text/restructuredtext"
   },
   "source": [
    ".. |blankjul| raw:: html\n",
    "\n",
    "   <a href=\"http://www.cse.msu.edu/~blankjul/\" target=\"_blank\">Julian Blank</a>\n",
    "   \n",
    "|blankjul|\n",
    "\n",
    "Feel free to contact me if you have any question:\n",
    "\n",
    "::\n",
    "\n",
    "    Julian Blank (blankjul [at] egr.msu.edu)\n",
    "    Michigan State University\n",
    "    Computational Optimization and Innovation Laboratory (COIN)\n",
    "    East Lansing, MI 48824, USA\n",
    "\n"
   ]
  }
 ],
 "metadata": {
  "kernelspec": {
   "display_name": "Python 3",
   "language": "python",
   "name": "python3"
  },
  "language_info": {
   "codemirror_mode": {
    "name": "ipython",
    "version": 3
   },
   "file_extension": ".py",
   "mimetype": "text/x-python",
   "name": "python",
   "nbconvert_exporter": "python",
   "pygments_lexer": "ipython3",
   "version": "3.7.3"
  },
  "pycharm": {
   "stem_cell": {
    "cell_type": "raw",
    "metadata": {
     "collapsed": false
    },
    "source": []
   }
  }
 },
 "nbformat": 4,
 "nbformat_minor": 4
}
